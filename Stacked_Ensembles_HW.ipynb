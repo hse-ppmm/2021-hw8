{
  "nbformat": 4,
  "nbformat_minor": 0,
  "metadata": {
    "kernelspec": {
      "display_name": "Python 3",
      "language": "python",
      "name": "python3"
    },
    "language_info": {
      "codemirror_mode": {
        "name": "ipython",
        "version": 3
      },
      "file_extension": ".py",
      "mimetype": "text/x-python",
      "name": "python",
      "nbconvert_exporter": "python",
      "pygments_lexer": "ipython3",
      "version": "3.6.10"
    },
    "colab": {
      "name": "Stacked_Ensembles_HW.ipynb",
      "provenance": [],
      "collapsed_sections": [],
      "toc_visible": true
    }
  },
  "cells": [
    {
      "cell_type": "markdown",
      "metadata": {
        "id": "qcbYn81H6WfQ"
      },
      "source": [
        "**Задание** Попробуйте создать stacking модели случайного леса `my_rf` и лучшей модели (по ROC AUC) среди моделей градиентного бустинга, найденной при помощи GridSearch на наборе данных *Higgs*.\n",
        "\n",
        "В качестве примера посмотрите ниже, как объединяются модели `my_rf` и `my_gbm`."
      ]
    },
    {
      "cell_type": "code",
      "metadata": {
        "id": "Tw0lb5cWxb1B"
      },
      "source": [
        "!pip install h2o\n",
        "import h2o\n",
        "# Number of threads, nthreads = -1, means use all cores on your machine\n",
        "# max_mem_size is the maximum memory (in GB) to allocate to H2O\n",
        "h2o.init(nthreads = -1, max_mem_size = 8)"
      ],
      "execution_count": null,
      "outputs": []
    },
    {
      "cell_type": "markdown",
      "metadata": {
        "id": "O3n1x595ytX-"
      },
      "source": [
        "Датасет: https://archive.ics.uci.edu/ml/datasets/HIGGS"
      ]
    },
    {
      "cell_type": "code",
      "metadata": {
        "id": "aNSnvcjS4TsG"
      },
      "source": [
        "# higgs = h2o.import_file(\"https://h2o-public-test-data.s3.amazonaws.com/smalldata/testng/higgs_train_5k.csv\")\n",
        "\n",
        "train = h2o.import_file(\"https://s3.amazonaws.com/erin-data/higgs/higgs_train_10k.csv\")\n",
        "valid = h2o.import_file(\"https://s3.amazonaws.com/erin-data/higgs/higgs_test_5k.csv\")"
      ],
      "execution_count": null,
      "outputs": []
    },
    {
      "cell_type": "code",
      "metadata": {
        "id": "rNxazDhHFHz3"
      },
      "source": [
        "# Identify predictors and response\n",
        "predictors = train.columns\n",
        "response = \"response\"\n",
        "predictors.remove(response)\n",
        "\n",
        "# For binary classification, response should be a factor\n",
        "train[response] = train[response].asfactor()"
      ],
      "execution_count": null,
      "outputs": []
    },
    {
      "cell_type": "markdown",
      "metadata": {
        "id": "jrCkfXUDICDm"
      },
      "source": [
        "# Случайный лес\n",
        "\n",
        "Описание: https://docs.h2o.ai/h2o/latest-stable/h2o-docs/data-science/drf.html"
      ]
    },
    {
      "cell_type": "code",
      "metadata": {
        "id": "JRM5uhm8FH6f"
      },
      "source": [
        "from h2o.estimators.random_forest import H2ORandomForestEstimator\n",
        "\n",
        "# Train & Cross-validate a RF\n",
        "my_rf = H2ORandomForestEstimator(ntrees=50,\n",
        "                                 nfolds=5,\n",
        "                                 fold_assignment=\"Modulo\",\n",
        "                                 keep_cross_validation_predictions=True,\n",
        "                                 seed=123)\n",
        "\n",
        "my_rf.train(x=predictors,\n",
        "            y=response,\n",
        "            training_frame=train,\n",
        "            validation_frame=valid)"
      ],
      "execution_count": null,
      "outputs": []
    },
    {
      "cell_type": "code",
      "metadata": {
        "id": "ecGZKbT6FH9f"
      },
      "source": [
        "# Eval performance:\n",
        "perf_rf = my_rf.model_performance()\n",
        "\n",
        "# Generate predictions on a validation set (if necessary):\n",
        "pred_rf = my_rf.predict(valid)"
      ],
      "execution_count": null,
      "outputs": []
    },
    {
      "cell_type": "code",
      "metadata": {
        "id": "cMPb-QSIFIEQ"
      },
      "source": [
        "my_rf.auc(train=True, valid=True, xval=False)"
      ],
      "execution_count": null,
      "outputs": []
    },
    {
      "cell_type": "markdown",
      "metadata": {
        "id": "B6WDJ-9uPxGB"
      },
      "source": [
        "# Градиентный бустинг\n",
        "\n",
        "Описание: https://docs.h2o.ai/h2o/latest-stable/h2o-docs/data-science/gbm.html"
      ]
    },
    {
      "cell_type": "code",
      "metadata": {
        "id": "mdjcmuqPFIG-"
      },
      "source": [
        "from h2o.estimators import H2OGradientBoostingEstimator\n",
        "\n",
        "# Build and train the model:\n",
        "my_gbm = H2OGradientBoostingEstimator(nfolds=5,\n",
        "                                      seed=123,\n",
        "                                      fold_assignment=\"Modulo\",\n",
        "                                      keep_cross_validation_predictions = True)\n",
        "\n",
        "my_gbm.train(x=predictors,\n",
        "            y=response,\n",
        "            training_frame=train,\n",
        "            validation_frame=valid)\n",
        "\n",
        "# Eval performance:\n",
        "perf_gbm = my_gbm.model_performance()\n",
        "\n",
        "# Generate predictions on a test set (if necessary):\n",
        "pred_gbm = my_gbm.predict(valid)\n",
        "\n",
        "# Extract feature interactions:\n",
        "feature_interactions = my_gbm.feature_interaction()"
      ],
      "execution_count": null,
      "outputs": []
    },
    {
      "cell_type": "code",
      "metadata": {
        "id": "XWwa0Aa8FIKR"
      },
      "source": [
        "my_gbm.auc(train=True, valid=True, xval=False)"
      ],
      "execution_count": null,
      "outputs": []
    },
    {
      "cell_type": "markdown",
      "metadata": {
        "id": "V_zeswF1Zf9e"
      },
      "source": [
        "# Объединение моделей\n",
        "\n",
        "Описание: https://docs.h2o.ai/h2o/latest-stable/h2o-docs/data-science/stacked-ensembles.html"
      ]
    },
    {
      "cell_type": "code",
      "metadata": {
        "id": "Zx0P32YrZjY4"
      },
      "source": [
        "from h2o.estimators.stackedensemble import H2OStackedEnsembleEstimator\n",
        "\n",
        "# Train a stacked ensemble using the GBM and GLM above\n",
        "ensemble = H2OStackedEnsembleEstimator(model_id=\"my_ensemble_binomial\",\n",
        "                                       base_models=[my_rf, my_gbm])\n",
        "ensemble.train(x=predictors,\n",
        "              y=response,\n",
        "              training_frame=train,\n",
        "              validation_frame=valid)"
      ],
      "execution_count": null,
      "outputs": []
    },
    {
      "cell_type": "code",
      "metadata": {
        "id": "K1LVc9X7cddi"
      },
      "source": [
        "perf_stack_test = ensemble.model_performance(valid)"
      ],
      "execution_count": null,
      "outputs": []
    },
    {
      "cell_type": "code",
      "metadata": {
        "id": "szKn05Kxcew9"
      },
      "source": [
        "ensemble.auc(train=True, valid=True, xval=False)"
      ],
      "execution_count": null,
      "outputs": []
    },
    {
      "cell_type": "markdown",
      "metadata": {
        "id": "ZucJvwxEgCMF"
      },
      "source": [
        "# Использование Grid Search"
      ]
    },
    {
      "cell_type": "code",
      "metadata": {
        "id": "g12BpRBUgD23"
      },
      "source": [
        "from h2o.grid.grid_search import H2OGridSearch\n",
        "\n",
        "# GBM hyperparameters\n",
        "gbm_params1 = {'learn_rate': [0.01, 0.1],\n",
        "                'max_depth': [3, 5, 9],\n",
        "                'sample_rate': [0.8, 1.0],\n",
        "                'col_sample_rate': [0.2, 0.5, 1.0]}\n",
        "\n",
        "# Train and validate a cartesian grid of GBMs\n",
        "gbm_grid1 = H2OGridSearch(model=H2OGradientBoostingEstimator(),\n",
        "                          grid_id='gbm_grid1',\n",
        "                          hyper_params=gbm_params1)\n",
        "gbm_grid1.train(x=predictors,\n",
        "              y=response,\n",
        "              training_frame=train,\n",
        "              validation_frame=valid)"
      ],
      "execution_count": null,
      "outputs": []
    },
    {
      "cell_type": "code",
      "metadata": {
        "id": "tKB7gMk7sFFV"
      },
      "source": [
        "# Get the grid results, sorted by validation AUC\n",
        "gbm_gridperf1 = gbm_grid1.get_grid(sort_by='auc', decreasing=True)\n",
        "gbm_gridperf1\n",
        "\n",
        "# Grab the top GBM model, chosen by validation AUC\n",
        "best_gbm1 = gbm_gridperf1.models[0]\n",
        "\n",
        "# Now let's evaluate the model performance on a test set\n",
        "# so we get an honest estimate of top model performance\n",
        "best_gbm_perf1 = best_gbm1.model_performance(valid)\n",
        "\n",
        "best_gbm_perf1.auc()"
      ],
      "execution_count": null,
      "outputs": []
    }
  ]
}
